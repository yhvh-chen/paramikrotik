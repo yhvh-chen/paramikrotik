{
 "cells": [
  {
   "cell_type": "raw",
   "id": "cd692bae-0d63-4c68-9486-a01ce0f497e5",
   "metadata": {},
   "source": [
    "- Paramikrotik usage examples -\n",
    "\n",
    "# Author: yhch_chen\n",
    "# Update: 17/08/2021\n",
    "# License: Apache\n",
    "\n",
    "* SSH connection needs to be configured between host and client, currently only support password authentication. *"
   ]
  },
  {
   "cell_type": "code",
   "execution_count": null,
   "id": "085e556c-71b3-4ba3-9f71-a31cbe426c80",
   "metadata": {},
   "outputs": [],
   "source": [
    "host = '192.168.1.88'\n",
    "user = 'admin'\n",
    "passwd = 'password'"
   ]
  },
  {
   "cell_type": "raw",
   "id": "fdc018ef-4fbe-4bdc-b05e-ed429cd85182",
   "metadata": {},
   "source": [
    "- 01 send_commd function -"
   ]
  },
  {
   "cell_type": "code",
   "execution_count": null,
   "id": "84866582-5209-40ce-8e69-badc3cc6d008",
   "metadata": {},
   "outputs": [],
   "source": [
    "from paramikrotik import send_commd\n",
    "\n",
    "host1 = send_commd(host=host, user=user, passwd=passwd, commSheet='all')\n",
    "host1.tb_shoot()  #run all command in sheet\n",
    "host1.exce('ping 8.8.8.8 count=5')  #run single command\n",
    "\n",
    "# run commands on sencond host\n",
    "# host2 = send_commd(host=host, user=user, passwd=passwd, commSheet='all')\n",
    "# host2.tb_shoot()  #run all command in sheet"
   ]
  },
  {
   "cell_type": "code",
   "execution_count": null,
   "id": "130ff4fa-dfa5-4dba-977e-662625f88cdd",
   "metadata": {},
   "outputs": [],
   "source": [
    "from paramikrotik import send_commd\n",
    "\n",
    "hosts = [192.168.1.1, 192.168.1.2, 192.168.1.3, 192.168.1.4, 192.168.1.5]\n",
    "#use loop ping hosts\n",
    "for i in hosts:\n",
    "    host = host1 = send_commd(host=i, user=user, passwd=passwd, commSheet='ping')\n",
    "    host.tb_shoot()"
   ]
  },
  {
   "cell_type": "raw",
   "id": "96c440b3-c2e3-4a69-b43d-647e72f2c4c5",
   "metadata": {},
   "source": [
    "- 02 render_conf function -"
   ]
  },
  {
   "cell_type": "code",
   "execution_count": null,
   "id": "46e4c0f6-3dfe-45ed-8367-a4868d6c7594",
   "metadata": {},
   "outputs": [],
   "source": [
    "from paramikrotik import render_conf\n",
    "\n",
    "host1 = render_conf(tempFile='just_wan_init.j2', paraSheet='site01')\n",
    "host1.render()\n",
    "\n",
    "# render second file\n",
    "# host2 = render_conf(tempFile='just_wifi_init.j2', paraSheet='site01-wifi')\n",
    "# host2.render()"
   ]
  },
  {
   "cell_type": "raw",
   "id": "7a580546-5a1c-4a76-8dc5-896253acbf6e",
   "metadata": {},
   "source": [
    "- 03 put_conf -"
   ]
  },
  {
   "cell_type": "code",
   "execution_count": null,
   "id": "638f3842-5d5a-42ed-94b3-b9fd159f73ab",
   "metadata": {},
   "outputs": [],
   "source": [
    "from paramikrotik import put_conf\n",
    "# this function will directly import configuration into running router, check carefully\n",
    "host1 = put_conf(host=host, user=user, passwd=passwd, fileName='conf_site01.rsc')\n",
    "host1.send_conf()\n",
    "\n",
    "# send configure to second client\n",
    "# host2 = put_conf(host=host, user=user, passwd=passwd, fileName='conf_site01.rsc')\n",
    "# host2.send_conf()"
   ]
  },
  {
   "cell_type": "raw",
   "id": "4eefdf4a-83c6-4373-9636-5d797ffca8a0",
   "metadata": {},
   "source": [
    "- 04 put_conf -"
   ]
  },
  {
   "cell_type": "code",
   "execution_count": null,
   "id": "b3383ea7-24c4-4442-8350-1e7adbdaada9",
   "metadata": {},
   "outputs": [],
   "source": [
    "from paramikrotik import backup_conf\n",
    "\n",
    "host1 = backup_conf(host=host, user=user, passwd=passwd, fileName='bak_site01_17082021.rsc')\n",
    "host1.export_file()   #export the configuration on mikrotik first\n",
    "host1.pull_file()     #pull it to local"
   ]
  },
  {
   "cell_type": "code",
   "execution_count": null,
   "id": "e23e2592-1551-4f4d-87aa-12c30fc1a06a",
   "metadata": {},
   "outputs": [],
   "source": [
    "# if prompt file does not exist, wait another mins and run this, because export command on mikrotik needs take a while\n",
    "host1.pull_file()"
   ]
  }
 ],
 "metadata": {
  "kernelspec": {
   "display_name": "Python 3",
   "language": "python",
   "name": "python3"
  },
  "language_info": {
   "codemirror_mode": {
    "name": "ipython",
    "version": 3
   },
   "file_extension": ".py",
   "mimetype": "text/x-python",
   "name": "python",
   "nbconvert_exporter": "python",
   "pygments_lexer": "ipython3",
   "version": "3.8.8"
  }
 },
 "nbformat": 4,
 "nbformat_minor": 5
}
